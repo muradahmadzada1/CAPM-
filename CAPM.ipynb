{
 "cells": [
  {
   "cell_type": "code",
   "execution_count": 2,
   "metadata": {},
   "outputs": [],
   "source": [
    "from scipy import stats"
   ]
  },
  {
   "cell_type": "code",
   "execution_count": 9,
   "metadata": {},
   "outputs": [],
   "source": [
    "import pandas as pd"
   ]
  },
  {
   "cell_type": "code",
   "execution_count": 10,
   "metadata": {},
   "outputs": [],
   "source": [
    "import pandas_datareader as web"
   ]
  },
  {
   "cell_type": "code",
   "execution_count": 12,
   "metadata": {},
   "outputs": [
    {
     "name": "stdout",
     "output_type": "stream",
     "text": [
      "\n",
      "Historical Data:\n",
      "                                 Open        High         Low       Close  \\\n",
      "Date                                                                        \n",
      "2023-12-11 00:00:00-05:00  457.833750  460.303747  457.614638  460.124451   \n",
      "2023-12-12 00:00:00-05:00  459.765925  462.325554  458.740085  462.225952   \n",
      "2023-12-13 00:00:00-05:00  462.614357  468.859057  462.245856  468.600098   \n",
      "2023-12-14 00:00:00-05:00  470.592016  471.817060  467.355139  470.104004   \n",
      "2023-12-15 00:00:00-05:00  469.489990  470.700012  467.429993  469.329987   \n",
      "2023-12-18 00:00:00-05:00  470.980011  472.980011  469.890015  471.970001   \n",
      "2023-12-19 00:00:00-05:00  472.529999  474.920013  472.450012  474.839996   \n",
      "2023-12-20 00:00:00-05:00  473.959991  475.899994  467.820007  468.260010   \n",
      "2023-12-21 00:00:00-05:00  471.329987  472.980011  468.839996  472.700012   \n",
      "2023-12-22 00:00:00-05:00  473.859985  475.380005  471.700012  473.649994   \n",
      "2023-12-26 00:00:00-05:00  474.070007  476.579987  473.989990  475.649994   \n",
      "2023-12-27 00:00:00-05:00  475.440002  476.660004  474.890015  476.510010   \n",
      "2023-12-28 00:00:00-05:00  476.880005  477.549988  476.260010  476.690002   \n",
      "2023-12-29 00:00:00-05:00  476.489990  477.029999  473.299988  475.309998   \n",
      "2024-01-02 00:00:00-05:00  472.160004  473.670013  470.489990  472.649994   \n",
      "2024-01-03 00:00:00-05:00  470.429993  471.190002  468.170013  468.790009   \n",
      "2024-01-04 00:00:00-05:00  468.299988  470.959991  467.049988  467.279999   \n",
      "2024-01-05 00:00:00-05:00  467.489990  470.440002  466.429993  467.920013   \n",
      "2024-01-08 00:00:00-05:00  468.429993  474.750000  468.299988  474.600006   \n",
      "2024-01-09 00:00:00-05:00  471.869995  474.929993  471.350006  473.880005   \n",
      "2024-01-10 00:00:00-05:00  474.160004  477.450012  473.869995  476.559998   \n",
      "2024-01-11 00:00:00-05:00  477.589996  478.119995  472.519989  472.915009   \n",
      "\n",
      "                              Volume  Dividends  Stock Splits  Capital Gains  \n",
      "Date                                                                          \n",
      "2023-12-11 00:00:00-05:00   65002200      0.000           0.0            0.0  \n",
      "2023-12-12 00:00:00-05:00   68327600      0.000           0.0            0.0  \n",
      "2023-12-13 00:00:00-05:00   93278000      0.000           0.0            0.0  \n",
      "2023-12-14 00:00:00-05:00  119026000      0.000           0.0            0.0  \n",
      "2023-12-15 00:00:00-05:00  141319300      1.906           0.0            0.0  \n",
      "2023-12-18 00:00:00-05:00   70375300      0.000           0.0            0.0  \n",
      "2023-12-19 00:00:00-05:00   55761800      0.000           0.0            0.0  \n",
      "2023-12-20 00:00:00-05:00  102921000      0.000           0.0            0.0  \n",
      "2023-12-21 00:00:00-05:00   86667500      0.000           0.0            0.0  \n",
      "2023-12-22 00:00:00-05:00   67126600      0.000           0.0            0.0  \n",
      "2023-12-26 00:00:00-05:00   55387000      0.000           0.0            0.0  \n",
      "2023-12-27 00:00:00-05:00   68000300      0.000           0.0            0.0  \n",
      "2023-12-28 00:00:00-05:00   77158100      0.000           0.0            0.0  \n",
      "2023-12-29 00:00:00-05:00  122234100      0.000           0.0            0.0  \n",
      "2024-01-02 00:00:00-05:00  123623700      0.000           0.0            0.0  \n",
      "2024-01-03 00:00:00-05:00  103585900      0.000           0.0            0.0  \n",
      "2024-01-04 00:00:00-05:00   84232200      0.000           0.0            0.0  \n",
      "2024-01-05 00:00:00-05:00   86060800      0.000           0.0            0.0  \n",
      "2024-01-08 00:00:00-05:00   74879100      0.000           0.0            0.0  \n",
      "2024-01-09 00:00:00-05:00   65931400      0.000           0.0            0.0  \n",
      "2024-01-10 00:00:00-05:00   67228200      0.000           0.0            0.0  \n",
      "2024-01-11 00:00:00-05:00   29040753      0.000           0.0            0.0  \n"
     ]
    }
   ],
   "source": [
    "import yfinance as yf\n",
    "import pandas as pd\n",
    "import matplotlib.pyplot as plt\n",
    "\n",
    "ticker = yf.Ticker(\"SPY\")\n",
    "\n",
    "\n",
    "spy_etf = ticker.history(period=\"1mo\")\n",
    "print(\"\\nHistorical Data:\")\n",
    "print(spy_etf)"
   ]
  },
  {
   "cell_type": "code",
   "execution_count": 13,
   "metadata": {},
   "outputs": [
    {
     "name": "stdout",
     "output_type": "stream",
     "text": [
      "<class 'pandas.core.frame.DataFrame'>\n",
      "DatetimeIndex: 22 entries, 2023-12-11 00:00:00-05:00 to 2024-01-11 00:00:00-05:00\n",
      "Data columns (total 8 columns):\n",
      " #   Column         Non-Null Count  Dtype  \n",
      "---  ------         --------------  -----  \n",
      " 0   Open           22 non-null     float64\n",
      " 1   High           22 non-null     float64\n",
      " 2   Low            22 non-null     float64\n",
      " 3   Close          22 non-null     float64\n",
      " 4   Volume         22 non-null     int64  \n",
      " 5   Dividends      22 non-null     float64\n",
      " 6   Stock Splits   22 non-null     float64\n",
      " 7   Capital Gains  22 non-null     float64\n",
      "dtypes: float64(7), int64(1)\n",
      "memory usage: 1.5 KB\n"
     ]
    }
   ],
   "source": [
    "spy_etf.info()"
   ]
  },
  {
   "cell_type": "code",
   "execution_count": 14,
   "metadata": {},
   "outputs": [
    {
     "data": {
      "text/html": [
       "<div>\n",
       "<style scoped>\n",
       "    .dataframe tbody tr th:only-of-type {\n",
       "        vertical-align: middle;\n",
       "    }\n",
       "\n",
       "    .dataframe tbody tr th {\n",
       "        vertical-align: top;\n",
       "    }\n",
       "\n",
       "    .dataframe thead th {\n",
       "        text-align: right;\n",
       "    }\n",
       "</style>\n",
       "<table border=\"1\" class=\"dataframe\">\n",
       "  <thead>\n",
       "    <tr style=\"text-align: right;\">\n",
       "      <th></th>\n",
       "      <th>Open</th>\n",
       "      <th>High</th>\n",
       "      <th>Low</th>\n",
       "      <th>Close</th>\n",
       "      <th>Volume</th>\n",
       "      <th>Dividends</th>\n",
       "      <th>Stock Splits</th>\n",
       "      <th>Capital Gains</th>\n",
       "    </tr>\n",
       "    <tr>\n",
       "      <th>Date</th>\n",
       "      <th></th>\n",
       "      <th></th>\n",
       "      <th></th>\n",
       "      <th></th>\n",
       "      <th></th>\n",
       "      <th></th>\n",
       "      <th></th>\n",
       "      <th></th>\n",
       "    </tr>\n",
       "  </thead>\n",
       "  <tbody>\n",
       "    <tr>\n",
       "      <th>2023-12-11 00:00:00-05:00</th>\n",
       "      <td>457.833750</td>\n",
       "      <td>460.303747</td>\n",
       "      <td>457.614638</td>\n",
       "      <td>460.124451</td>\n",
       "      <td>65002200</td>\n",
       "      <td>0.000</td>\n",
       "      <td>0.0</td>\n",
       "      <td>0.0</td>\n",
       "    </tr>\n",
       "    <tr>\n",
       "      <th>2023-12-12 00:00:00-05:00</th>\n",
       "      <td>459.765925</td>\n",
       "      <td>462.325554</td>\n",
       "      <td>458.740085</td>\n",
       "      <td>462.225952</td>\n",
       "      <td>68327600</td>\n",
       "      <td>0.000</td>\n",
       "      <td>0.0</td>\n",
       "      <td>0.0</td>\n",
       "    </tr>\n",
       "    <tr>\n",
       "      <th>2023-12-13 00:00:00-05:00</th>\n",
       "      <td>462.614357</td>\n",
       "      <td>468.859057</td>\n",
       "      <td>462.245856</td>\n",
       "      <td>468.600098</td>\n",
       "      <td>93278000</td>\n",
       "      <td>0.000</td>\n",
       "      <td>0.0</td>\n",
       "      <td>0.0</td>\n",
       "    </tr>\n",
       "    <tr>\n",
       "      <th>2023-12-14 00:00:00-05:00</th>\n",
       "      <td>470.592016</td>\n",
       "      <td>471.817060</td>\n",
       "      <td>467.355139</td>\n",
       "      <td>470.104004</td>\n",
       "      <td>119026000</td>\n",
       "      <td>0.000</td>\n",
       "      <td>0.0</td>\n",
       "      <td>0.0</td>\n",
       "    </tr>\n",
       "    <tr>\n",
       "      <th>2023-12-15 00:00:00-05:00</th>\n",
       "      <td>469.489990</td>\n",
       "      <td>470.700012</td>\n",
       "      <td>467.429993</td>\n",
       "      <td>469.329987</td>\n",
       "      <td>141319300</td>\n",
       "      <td>1.906</td>\n",
       "      <td>0.0</td>\n",
       "      <td>0.0</td>\n",
       "    </tr>\n",
       "  </tbody>\n",
       "</table>\n",
       "</div>"
      ],
      "text/plain": [
       "                                 Open        High         Low       Close  \\\n",
       "Date                                                                        \n",
       "2023-12-11 00:00:00-05:00  457.833750  460.303747  457.614638  460.124451   \n",
       "2023-12-12 00:00:00-05:00  459.765925  462.325554  458.740085  462.225952   \n",
       "2023-12-13 00:00:00-05:00  462.614357  468.859057  462.245856  468.600098   \n",
       "2023-12-14 00:00:00-05:00  470.592016  471.817060  467.355139  470.104004   \n",
       "2023-12-15 00:00:00-05:00  469.489990  470.700012  467.429993  469.329987   \n",
       "\n",
       "                              Volume  Dividends  Stock Splits  Capital Gains  \n",
       "Date                                                                          \n",
       "2023-12-11 00:00:00-05:00   65002200      0.000           0.0            0.0  \n",
       "2023-12-12 00:00:00-05:00   68327600      0.000           0.0            0.0  \n",
       "2023-12-13 00:00:00-05:00   93278000      0.000           0.0            0.0  \n",
       "2023-12-14 00:00:00-05:00  119026000      0.000           0.0            0.0  \n",
       "2023-12-15 00:00:00-05:00  141319300      1.906           0.0            0.0  "
      ]
     },
     "execution_count": 14,
     "metadata": {},
     "output_type": "execute_result"
    }
   ],
   "source": [
    "spy_etf.head()"
   ]
  },
  {
   "cell_type": "code",
   "execution_count": 15,
   "metadata": {},
   "outputs": [],
   "source": [
    "start = pd.to_datetime('2017-01-04')\n",
    "end = pd.to_datetime('2023-12-23')"
   ]
  },
  {
   "cell_type": "code",
   "execution_count": 20,
   "metadata": {},
   "outputs": [
    {
     "name": "stdout",
     "output_type": "stream",
     "text": [
      "\n",
      "Historical Data:\n",
      "                                 Open        High         Low       Close  \\\n",
      "Date                                                                        \n",
      "2023-12-11 00:00:00-05:00  193.110001  193.490005  191.419998  193.179993   \n",
      "2023-12-12 00:00:00-05:00  193.080002  194.720001  191.720001  194.710007   \n",
      "2023-12-13 00:00:00-05:00  195.089996  198.000000  194.850006  197.960007   \n",
      "2023-12-14 00:00:00-05:00  198.020004  199.619995  196.160004  198.110001   \n",
      "2023-12-15 00:00:00-05:00  197.529999  198.399994  197.000000  197.570007   \n",
      "2023-12-18 00:00:00-05:00  196.089996  196.630005  194.389999  195.889999   \n",
      "2023-12-19 00:00:00-05:00  196.160004  196.949997  195.889999  196.940002   \n",
      "2023-12-20 00:00:00-05:00  196.899994  197.679993  194.830002  194.830002   \n",
      "2023-12-21 00:00:00-05:00  196.100006  197.080002  193.500000  194.679993   \n",
      "2023-12-22 00:00:00-05:00  195.179993  195.410004  192.970001  193.600006   \n",
      "2023-12-26 00:00:00-05:00  193.610001  193.889999  192.830002  193.050003   \n",
      "2023-12-27 00:00:00-05:00  192.490005  193.500000  191.089996  193.149994   \n",
      "2023-12-28 00:00:00-05:00  194.139999  194.660004  193.169998  193.580002   \n",
      "2023-12-29 00:00:00-05:00  193.899994  194.399994  191.729996  192.529999   \n",
      "2024-01-02 00:00:00-05:00  187.149994  188.440002  183.889999  185.639999   \n",
      "2024-01-03 00:00:00-05:00  184.220001  185.880005  183.429993  184.250000   \n",
      "2024-01-04 00:00:00-05:00  182.149994  183.089996  180.880005  181.910004   \n",
      "2024-01-05 00:00:00-05:00  181.990005  182.759995  180.169998  181.179993   \n",
      "2024-01-08 00:00:00-05:00  182.089996  185.600006  181.500000  185.559998   \n",
      "2024-01-09 00:00:00-05:00  183.919998  185.149994  182.729996  185.139999   \n",
      "2024-01-10 00:00:00-05:00  184.350006  186.399994  183.919998  186.190002   \n",
      "2024-01-11 00:00:00-05:00  186.539993  187.050003  183.619995  184.199997   \n",
      "\n",
      "                              Volume  Dividends  Stock Splits  \n",
      "Date                                                           \n",
      "2023-12-11 00:00:00-05:00   60943700        0.0           0.0  \n",
      "2023-12-12 00:00:00-05:00   52696900        0.0           0.0  \n",
      "2023-12-13 00:00:00-05:00   70404200        0.0           0.0  \n",
      "2023-12-14 00:00:00-05:00   66831600        0.0           0.0  \n",
      "2023-12-15 00:00:00-05:00  128256700        0.0           0.0  \n",
      "2023-12-18 00:00:00-05:00   55751900        0.0           0.0  \n",
      "2023-12-19 00:00:00-05:00   40714100        0.0           0.0  \n",
      "2023-12-20 00:00:00-05:00   52242800        0.0           0.0  \n",
      "2023-12-21 00:00:00-05:00   46482500        0.0           0.0  \n",
      "2023-12-22 00:00:00-05:00   37122800        0.0           0.0  \n",
      "2023-12-26 00:00:00-05:00   28919300        0.0           0.0  \n",
      "2023-12-27 00:00:00-05:00   48087700        0.0           0.0  \n",
      "2023-12-28 00:00:00-05:00   34049900        0.0           0.0  \n",
      "2023-12-29 00:00:00-05:00   42628800        0.0           0.0  \n",
      "2024-01-02 00:00:00-05:00   82488700        0.0           0.0  \n",
      "2024-01-03 00:00:00-05:00   58414500        0.0           0.0  \n",
      "2024-01-04 00:00:00-05:00   71983600        0.0           0.0  \n",
      "2024-01-05 00:00:00-05:00   62303300        0.0           0.0  \n",
      "2024-01-08 00:00:00-05:00   59144500        0.0           0.0  \n",
      "2024-01-09 00:00:00-05:00   42841800        0.0           0.0  \n",
      "2024-01-10 00:00:00-05:00   46730900        0.0           0.0  \n",
      "2024-01-11 00:00:00-05:00   19284190        0.0           0.0  \n"
     ]
    }
   ],
   "source": [
    "ticker_2 = yf.Ticker(\"AAPL\")\n",
    "\n",
    "aapl = ticker_2.history(period=\"1mo\")\n",
    "print(\"\\nHistorical Data:\")\n",
    "print(aapl)"
   ]
  },
  {
   "cell_type": "code",
   "execution_count": 21,
   "metadata": {},
   "outputs": [
    {
     "data": {
      "text/html": [
       "<div>\n",
       "<style scoped>\n",
       "    .dataframe tbody tr th:only-of-type {\n",
       "        vertical-align: middle;\n",
       "    }\n",
       "\n",
       "    .dataframe tbody tr th {\n",
       "        vertical-align: top;\n",
       "    }\n",
       "\n",
       "    .dataframe thead th {\n",
       "        text-align: right;\n",
       "    }\n",
       "</style>\n",
       "<table border=\"1\" class=\"dataframe\">\n",
       "  <thead>\n",
       "    <tr style=\"text-align: right;\">\n",
       "      <th></th>\n",
       "      <th>Open</th>\n",
       "      <th>High</th>\n",
       "      <th>Low</th>\n",
       "      <th>Close</th>\n",
       "      <th>Volume</th>\n",
       "      <th>Dividends</th>\n",
       "      <th>Stock Splits</th>\n",
       "    </tr>\n",
       "    <tr>\n",
       "      <th>Date</th>\n",
       "      <th></th>\n",
       "      <th></th>\n",
       "      <th></th>\n",
       "      <th></th>\n",
       "      <th></th>\n",
       "      <th></th>\n",
       "      <th></th>\n",
       "    </tr>\n",
       "  </thead>\n",
       "  <tbody>\n",
       "    <tr>\n",
       "      <th>2023-12-11 00:00:00-05:00</th>\n",
       "      <td>193.110001</td>\n",
       "      <td>193.490005</td>\n",
       "      <td>191.419998</td>\n",
       "      <td>193.179993</td>\n",
       "      <td>60943700</td>\n",
       "      <td>0.0</td>\n",
       "      <td>0.0</td>\n",
       "    </tr>\n",
       "    <tr>\n",
       "      <th>2023-12-12 00:00:00-05:00</th>\n",
       "      <td>193.080002</td>\n",
       "      <td>194.720001</td>\n",
       "      <td>191.720001</td>\n",
       "      <td>194.710007</td>\n",
       "      <td>52696900</td>\n",
       "      <td>0.0</td>\n",
       "      <td>0.0</td>\n",
       "    </tr>\n",
       "    <tr>\n",
       "      <th>2023-12-13 00:00:00-05:00</th>\n",
       "      <td>195.089996</td>\n",
       "      <td>198.000000</td>\n",
       "      <td>194.850006</td>\n",
       "      <td>197.960007</td>\n",
       "      <td>70404200</td>\n",
       "      <td>0.0</td>\n",
       "      <td>0.0</td>\n",
       "    </tr>\n",
       "    <tr>\n",
       "      <th>2023-12-14 00:00:00-05:00</th>\n",
       "      <td>198.020004</td>\n",
       "      <td>199.619995</td>\n",
       "      <td>196.160004</td>\n",
       "      <td>198.110001</td>\n",
       "      <td>66831600</td>\n",
       "      <td>0.0</td>\n",
       "      <td>0.0</td>\n",
       "    </tr>\n",
       "    <tr>\n",
       "      <th>2023-12-15 00:00:00-05:00</th>\n",
       "      <td>197.529999</td>\n",
       "      <td>198.399994</td>\n",
       "      <td>197.000000</td>\n",
       "      <td>197.570007</td>\n",
       "      <td>128256700</td>\n",
       "      <td>0.0</td>\n",
       "      <td>0.0</td>\n",
       "    </tr>\n",
       "  </tbody>\n",
       "</table>\n",
       "</div>"
      ],
      "text/plain": [
       "                                 Open        High         Low       Close  \\\n",
       "Date                                                                        \n",
       "2023-12-11 00:00:00-05:00  193.110001  193.490005  191.419998  193.179993   \n",
       "2023-12-12 00:00:00-05:00  193.080002  194.720001  191.720001  194.710007   \n",
       "2023-12-13 00:00:00-05:00  195.089996  198.000000  194.850006  197.960007   \n",
       "2023-12-14 00:00:00-05:00  198.020004  199.619995  196.160004  198.110001   \n",
       "2023-12-15 00:00:00-05:00  197.529999  198.399994  197.000000  197.570007   \n",
       "\n",
       "                              Volume  Dividends  Stock Splits  \n",
       "Date                                                           \n",
       "2023-12-11 00:00:00-05:00   60943700        0.0           0.0  \n",
       "2023-12-12 00:00:00-05:00   52696900        0.0           0.0  \n",
       "2023-12-13 00:00:00-05:00   70404200        0.0           0.0  \n",
       "2023-12-14 00:00:00-05:00   66831600        0.0           0.0  \n",
       "2023-12-15 00:00:00-05:00  128256700        0.0           0.0  "
      ]
     },
     "execution_count": 21,
     "metadata": {},
     "output_type": "execute_result"
    }
   ],
   "source": [
    "aapl.head()"
   ]
  },
  {
   "cell_type": "code",
   "execution_count": 22,
   "metadata": {},
   "outputs": [],
   "source": [
    "import matplotlib.pyplot as plt\n",
    "%matplotlib inline"
   ]
  },
  {
   "cell_type": "code",
   "execution_count": 23,
   "metadata": {},
   "outputs": [
    {
     "data": {
      "text/plain": [
       "<matplotlib.legend.Legend at 0x2473d90c730>"
      ]
     },
     "execution_count": 23,
     "metadata": {},
     "output_type": "execute_result"
    },
    {
     "data": {
      "image/png": "[encoded data removed]",
      "text/plain": [
       "<Figure size 1000x800 with 1 Axes>"
      ]
     },
     "metadata": {},
     "output_type": "display_data"
    }
   ],
   "source": [
    "aapl['Close'].plot(label='AAPL',figsize=(10,8))\n",
    "spy_etf['Close'].plot(label='SPY Index')\n",
    "plt.legend()"
   ]
  },
  {
   "cell_type": "markdown",
   "metadata": {},
   "source": [
    "## Compare Cumulative Return"
   ]
  },
  {
   "cell_type": "code",
   "execution_count": 24,
   "metadata": {},
   "outputs": [],
   "source": [
    "aapl['Cumulative'] = aapl['Close']/aapl['Close'].iloc[0]\n",
    "spy_etf['Cumulative'] = spy_etf['Close']/spy_etf['Close'].iloc[0]"
   ]
  },
  {
   "cell_type": "code",
   "execution_count": 25,
   "metadata": {},
   "outputs": [
    {
     "data": {
      "text/plain": [
       "Text(0.5, 1.0, 'Cumulative Return')"
      ]
     },
     "execution_count": 25,
     "metadata": {},
     "output_type": "execute_result"
    },
    {
     "data": {
      "image/png": "[encoded data removed]",
      "text/plain": [
       "<Figure size 1000x800 with 1 Axes>"
      ]
     },
     "metadata": {},
     "output_type": "display_data"
    }
   ],
   "source": [
    "aapl['Cumulative'].plot(label='AAPL',figsize=(10,8))\n",
    "spy_etf['Cumulative'].plot(label='SPY Index')\n",
    "plt.legend()\n",
    "plt.title('Cumulative Return')"
   ]
  },
  {
   "cell_type": "markdown",
   "metadata": {},
   "source": [
    "## Get Daily Return"
   ]
  },
  {
   "cell_type": "code",
   "execution_count": 26,
   "metadata": {},
   "outputs": [],
   "source": [
    "aapl['Daily Return'] = aapl['Close'].pct_change(1)\n",
    "spy_etf['Daily Return'] = spy_etf['Close'].pct_change(1)"
   ]
  },
  {
   "cell_type": "code",
   "execution_count": 27,
   "metadata": {},
   "outputs": [
    {
     "data": {
      "text/plain": [
       "<matplotlib.collections.PathCollection at 0x2473e3fa6a0>"
      ]
     },
     "execution_count": 27,
     "metadata": {},
     "output_type": "execute_result"
    },
    {
     "data": {
      "image/png": "[encoded data removed]",
      "text/plain": [
       "<Figure size 640x480 with 1 Axes>"
      ]
     },
     "metadata": {},
     "output_type": "display_data"
    }
   ],
   "source": [
    "plt.scatter(aapl['Daily Return'],spy_etf['Daily Return'],alpha=0.3)"
   ]
  },
  {
   "cell_type": "code",
   "execution_count": 28,
   "metadata": {},
   "outputs": [
    {
     "data": {
      "text/plain": [
       "<AxesSubplot:>"
      ]
     },
     "execution_count": 28,
     "metadata": {},
     "output_type": "execute_result"
    },
    {
     "data": {
      "image/png": "[encoded data removed]",
      "text/plain": [
       "<Figure size 640x480 with 1 Axes>"
      ]
     },
     "metadata": {},
     "output_type": "display_data"
    }
   ],
   "source": [
    "aapl['Daily Return'].hist(bins=100)"
   ]
  },
  {
   "cell_type": "code",
   "execution_count": 29,
   "metadata": {},
   "outputs": [
    {
     "data": {
      "text/plain": [
       "<AxesSubplot:>"
      ]
     },
     "execution_count": 29,
     "metadata": {},
     "output_type": "execute_result"
    },
    {
     "data": {
      "image/png": "[encoded data removed]",
      "text/plain": [
       "<Figure size 640x480 with 1 Axes>"
      ]
     },
     "metadata": {},
     "output_type": "display_data"
    }
   ],
   "source": [
    "spy_etf['Daily Return'].hist(bins=100)"
   ]
  },
  {
   "cell_type": "code",
   "execution_count": 30,
   "metadata": {},
   "outputs": [],
   "source": [
    "beta,alpha,r_value,p_value,std_err = stats.linregress(aapl['Daily Return'].iloc[1:],spy_etf['Daily Return'].iloc[1:])"
   ]
  },
  {
   "cell_type": "code",
   "execution_count": 31,
   "metadata": {},
   "outputs": [
    {
     "data": {
      "text/plain": [
       "0.43548374195559003"
      ]
     },
     "execution_count": 31,
     "metadata": {},
     "output_type": "execute_result"
    }
   ],
   "source": [
    "beta"
   ]
  },
  {
   "cell_type": "code",
   "execution_count": 32,
   "metadata": {},
   "outputs": [
    {
     "data": {
      "text/plain": [
       "0.0022866795741418263"
      ]
     },
     "execution_count": 32,
     "metadata": {},
     "output_type": "execute_result"
    }
   ],
   "source": [
    "alpha"
   ]
  },
  {
   "cell_type": "code",
   "execution_count": 33,
   "metadata": {},
   "outputs": [
    {
     "data": {
      "text/plain": [
       "0.7352785802177113"
      ]
     },
     "execution_count": 33,
     "metadata": {},
     "output_type": "execute_result"
    }
   ],
   "source": [
    "r_value"
   ]
  },
  {
   "cell_type": "markdown",
   "metadata": {},
   "source": [
    "## What if our stock was completely related to SP500?"
   ]
  },
  {
   "cell_type": "code",
   "execution_count": 34,
   "metadata": {},
   "outputs": [
    {
     "data": {
      "text/plain": [
       "Date\n",
       "2023-12-11 00:00:00-05:00         NaN\n",
       "2023-12-12 00:00:00-05:00    0.004567\n",
       "2023-12-13 00:00:00-05:00    0.013790\n",
       "2023-12-14 00:00:00-05:00    0.003209\n",
       "2023-12-15 00:00:00-05:00   -0.001646\n",
       "Name: Daily Return, dtype: float64"
      ]
     },
     "execution_count": 34,
     "metadata": {},
     "output_type": "execute_result"
    }
   ],
   "source": [
    "spy_etf['Daily Return'].head()"
   ]
  },
  {
   "cell_type": "code",
   "execution_count": 35,
   "metadata": {},
   "outputs": [],
   "source": [
    "import numpy as np"
   ]
  },
  {
   "cell_type": "code",
   "execution_count": 36,
   "metadata": {},
   "outputs": [],
   "source": [
    "noise = np.random.normal(0,0.001,len(spy_etf['Daily Return'].iloc[1:]))"
   ]
  },
  {
   "cell_type": "code",
   "execution_count": 37,
   "metadata": {},
   "outputs": [
    {
     "data": {
      "text/plain": [
       "array([ 0.00068915, -0.00028943,  0.0006075 ,  0.0018875 , -0.00052855,\n",
       "       -0.00072631, -0.00025418,  0.00091905, -0.00122793,  0.00024477,\n",
       "        0.00013616, -0.0008808 ,  0.00030804,  0.00050481, -0.00167356,\n",
       "        0.00127849, -0.00102471, -0.00038677,  0.00042137,  0.00062892,\n",
       "       -0.00085587])"
      ]
     },
     "execution_count": 37,
     "metadata": {},
     "output_type": "execute_result"
    }
   ],
   "source": [
    "noise"
   ]
  },
  {
   "cell_type": "code",
   "execution_count": 38,
   "metadata": {},
   "outputs": [
    {
     "data": {
      "text/plain": [
       "Date\n",
       "2023-12-12 00:00:00-05:00    0.005256\n",
       "2023-12-13 00:00:00-05:00    0.013501\n",
       "2023-12-14 00:00:00-05:00    0.003817\n",
       "2023-12-15 00:00:00-05:00    0.000241\n",
       "2023-12-18 00:00:00-05:00    0.005097\n",
       "2023-12-19 00:00:00-05:00    0.005355\n",
       "2023-12-20 00:00:00-05:00   -0.014111\n",
       "2023-12-21 00:00:00-05:00    0.010401\n",
       "2023-12-22 00:00:00-05:00    0.000782\n",
       "2023-12-26 00:00:00-05:00    0.004467\n",
       "2023-12-27 00:00:00-05:00    0.001944\n",
       "2023-12-28 00:00:00-05:00   -0.000503\n",
       "2023-12-29 00:00:00-05:00   -0.002587\n",
       "2024-01-02 00:00:00-05:00   -0.005092\n",
       "2024-01-03 00:00:00-05:00   -0.009840\n",
       "2024-01-04 00:00:00-05:00   -0.001943\n",
       "2024-01-05 00:00:00-05:00    0.000345\n",
       "2024-01-08 00:00:00-05:00    0.013889\n",
       "2024-01-09 00:00:00-05:00   -0.001096\n",
       "2024-01-10 00:00:00-05:00    0.006284\n",
       "2024-01-11 00:00:00-05:00   -0.008504\n",
       "Name: Daily Return, dtype: float64"
      ]
     },
     "execution_count": 38,
     "metadata": {},
     "output_type": "execute_result"
    }
   ],
   "source": [
    "spy_etf['Daily Return'].iloc[1:] + noise"
   ]
  },
  {
   "cell_type": "code",
   "execution_count": 39,
   "metadata": {},
   "outputs": [],
   "source": [
    "beta,alpha,r_value,p_value,std_err = stats.linregress(spy_etf['Daily Return'].iloc[1:]+noise,spy_etf['Daily Return'].iloc[1:])"
   ]
  },
  {
   "cell_type": "code",
   "execution_count": 40,
   "metadata": {},
   "outputs": [
    {
     "data": {
      "text/plain": [
       "0.9745041834199583"
      ]
     },
     "execution_count": 40,
     "metadata": {},
     "output_type": "execute_result"
    }
   ],
   "source": [
    "beta"
   ]
  },
  {
   "cell_type": "code",
   "execution_count": 41,
   "metadata": {},
   "outputs": [
    {
     "data": {
      "text/plain": [
       "4.42219279339906e-05"
      ]
     },
     "execution_count": 41,
     "metadata": {},
     "output_type": "execute_result"
    }
   ],
   "source": [
    "alpha"
   ]
  }
 ],
 "metadata": {
  "kernelspec": {
   "display_name": "Python 3 (ipykernel)",
   "language": "python",
   "name": "python3"
  },
  "language_info": {
   "codemirror_mode": {
    "name": "ipython",
    "version": 3
   },
   "file_extension": ".py",
   "mimetype": "text/x-python",
   "name": "python",
   "nbconvert_exporter": "python",
   "pygments_lexer": "ipython3",
   "version": "3.9.13"
  }
 },
 "nbformat": 4,
 "nbformat_minor": 2
}
